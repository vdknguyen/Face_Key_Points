{
 "metadata": {
  "name": "",
  "signature": "sha256:db41d39a775cec3be6b00d0305ce34dfd4057739f5004793b8713f014610771f"
 },
 "nbformat": 3,
 "nbformat_minor": 0,
 "worksheets": []
}