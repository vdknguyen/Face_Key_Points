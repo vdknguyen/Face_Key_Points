{
 "metadata": {
  "name": "",
  "signature": "sha256:1d70fcc2bf609a785bb0adec77c8e5f74ed9f05df390cb0dbfd5540961b940a4"
 },
 "nbformat": 3,
 "nbformat_minor": 0,
 "worksheets": [
  {
   "cells": [
    {
     "cell_type": "code",
     "collapsed": false,
     "input": [
      "import os\n",
      "import numpy as np\n",
      "from pandas.io.parsers import read_csv\n",
      "from sklearn.utils import shuffle"
     ],
     "language": "python",
     "metadata": {},
     "outputs": [],
     "prompt_number": 1
    },
    {
     "cell_type": "code",
     "collapsed": false,
     "input": [
      "FTRAIN = 'training.csv'\n",
      "FTEST = 'test.csv'\n",
      "data_path = 'C:/Users/vnguyen/Desktop/face_keypoints_detection/data'"
     ],
     "language": "python",
     "metadata": {},
     "outputs": [],
     "prompt_number": 3
    },
    {
     "cell_type": "code",
     "collapsed": false,
     "input": [
      "def load(test=False, cols=None):\n",
      "    \"\"\"Loads data from FTEST if *test* is True, otherwise from FTRAIN.\n",
      "    Pass a list of *cols* if you're only interested in a subset of the\n",
      "    target columns.\n",
      "    \"\"\"\n",
      "    fname = FTEST if test else FTRAIN\n",
      "    df = read_csv(os.path.join(data_path,fname))  # load pandas dataframe\n",
      "\n",
      "    # The Image column has pixel values separated by space; convert\n",
      "    # the values to numpy arrays:\n",
      "    df['Image'] = df['Image'].apply(lambda im: np.fromstring(im, sep=' '))\n",
      "\n",
      "    if cols:  # get a subset of columns\n",
      "        df = df[list(cols) + ['Image']]\n",
      "\n",
      "    print(df.count())  # prints the number of values for each column\n",
      "    df = df.dropna()  # drop all rows that have missing values in them\n",
      "\n",
      "    X = np.vstack(df['Image'].values) / 255.  # scale pixel values to [0, 1]\n",
      "    X = X.astype(np.float32)\n",
      "\n",
      "    if not test:  # only FTRAIN has any target columns\n",
      "        y = df[df.columns[:-1]].values\n",
      "        y = (y - 48) / 48  # scale target coordinates to [-1, 1]\n",
      "        X, y = shuffle(X, y, random_state=42)  # shuffle train data\n",
      "        y = y.astype(np.float32)\n",
      "    else:\n",
      "        y = None\n",
      "\n",
      "    return X, y, df\n",
      "\n"
     ],
     "language": "python",
     "metadata": {},
     "outputs": [],
     "prompt_number": 18
    },
    {
     "cell_type": "code",
     "collapsed": false,
     "input": [
      "X, y, df = load()\n",
      "print(\"X.shape == {}; X.min == {:.3f}; X.max == {:.3f}\".format(\n",
      "    X.shape, X.min(), X.max()))\n",
      "print(\"y.shape == {}; y.min == {:.3f}; y.max == {:.3f}\".format(\n",
      "    y.shape, y.min(), y.max()))"
     ],
     "language": "python",
     "metadata": {},
     "outputs": [
      {
       "output_type": "stream",
       "stream": "stdout",
       "text": [
        "left_eye_center_x            7039\n",
        "left_eye_center_y            7039\n",
        "right_eye_center_x           7036\n",
        "right_eye_center_y           7036\n",
        "left_eye_inner_corner_x      2271\n",
        "left_eye_inner_corner_y      2271\n",
        "left_eye_outer_corner_x      2267\n",
        "left_eye_outer_corner_y      2267\n",
        "right_eye_inner_corner_x     2268\n",
        "right_eye_inner_corner_y     2268\n",
        "right_eye_outer_corner_x     2268\n",
        "right_eye_outer_corner_y     2268\n",
        "left_eyebrow_inner_end_x     2270\n",
        "left_eyebrow_inner_end_y     2270\n",
        "left_eyebrow_outer_end_x     2225\n",
        "left_eyebrow_outer_end_y     2225\n",
        "right_eyebrow_inner_end_x    2270\n",
        "right_eyebrow_inner_end_y    2270\n",
        "right_eyebrow_outer_end_x    2236\n",
        "right_eyebrow_outer_end_y    2236\n",
        "nose_tip_x                   7049\n",
        "nose_tip_y                   7049\n",
        "mouth_left_corner_x          2269\n",
        "mouth_left_corner_y          2269\n",
        "mouth_right_corner_x         2270\n",
        "mouth_right_corner_y         2270\n",
        "mouth_center_top_lip_x       2275\n",
        "mouth_center_top_lip_y       2275\n",
        "mouth_center_bottom_lip_x    7016\n",
        "mouth_center_bottom_lip_y    7016\n",
        "Image                        7049\n",
        "dtype: int64\n",
        "X.shape == (2140L, 9216L); X.min == 0.000; X.max == 1.000"
       ]
      },
      {
       "output_type": "stream",
       "stream": "stdout",
       "text": [
        "\n",
        "y.shape == (2140L, 30L); y.min == -0.920; y.max == 0.996\n"
       ]
      }
     ],
     "prompt_number": 19
    },
    {
     "cell_type": "code",
     "collapsed": false,
     "input": [
      "np.save(os.path.join(data_path,'Images.npy'),X)"
     ],
     "language": "python",
     "metadata": {},
     "outputs": [],
     "prompt_number": 26
    },
    {
     "cell_type": "code",
     "collapsed": false,
     "input": [
      "np.save(os.path.join(data_path,'Points.npy'),y)"
     ],
     "language": "python",
     "metadata": {},
     "outputs": [],
     "prompt_number": 27
    }
   ],
   "metadata": {}
  }
 ]
}